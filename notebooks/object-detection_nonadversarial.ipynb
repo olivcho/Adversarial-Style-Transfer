{
 "cells": [
  {
   "cell_type": "code",
   "execution_count": 1,
   "metadata": {},
   "outputs": [],
   "source": [
    "import torch\n",
    "import torch.nn as nn\n",
    "import numpy as np\n",
    "import pandas as pd\n",
    "import matplotlib.pyplot as plt\n",
    "import cv2\n",
    "from PIL import Image\n",
    "import os\n",
    "import glob\n",
    "\n",
    "import tqdm\n",
    "from sklearn.preprocessing import StandardScaler\n",
    "from sklearn.model_selection import train_test_split\n",
    "from torch.utils.data import TensorDataset, DataLoader"
   ]
  },
  {
   "cell_type": "markdown",
   "metadata": {},
   "source": [
    "# Data Preprocessing"
   ]
  },
  {
   "cell_type": "code",
   "execution_count": 2,
   "metadata": {},
   "outputs": [],
   "source": [
    "data_path = \"/Users/olicho/Desktop/Programming/adversarial-style-transfer/data/source_images\"\n",
    "\n",
    "def rename_images(base_path):\n",
    "\n",
    "    subfolders = [f for f in os.listdir(base_path)]\n",
    "\n",
    "    for subfolder in subfolders:\n",
    "        subfolder_path = os.path.join(base_path, subfolder)\n",
    "\n",
    "        files = glob.glob(os.path.join(subfolder_path, \"*\"))\n",
    "\n",
    "        for i, file_path in enumerate(files):\n",
    "            _, ext = os.path.splitext(file_path)\n",
    "            new_path = os.path.join(subfolder_path, f\"{subfolder}_{i}{ext}\")\n",
    "            os.rename(file_path, new_path)\n",
    "\n",
    "rename_images(data_path)"
   ]
  },
  {
   "cell_type": "code",
   "execution_count": 3,
   "metadata": {},
   "outputs": [
    {
     "name": "stderr",
     "output_type": "stream",
     "text": [
      "Processing chainsaw: 100%|██████████| 429/429 [00:00<00:00, 1246.22it/s]\n",
      "Processing gas_pump: 100%|██████████| 468/468 [00:00<00:00, 1145.67it/s]\n",
      "Processing tench: 100%|██████████| 481/481 [00:00<00:00, 1135.36it/s]\n",
      "Processing french_horn: 100%|██████████| 485/485 [00:00<00:00, 1187.59it/s]\n",
      "Processing church: 100%|██████████| 467/467 [00:00<00:00, 1098.80it/s]\n",
      "Processing english_springer: 100%|██████████| 474/474 [00:00<00:00, 1258.35it/s]\n",
      "Processing golf_ball: 100%|██████████| 476/476 [00:00<00:00, 1397.09it/s]\n",
      "Processing garbage_truck: 100%|██████████| 485/485 [00:00<00:00, 1196.67it/s]\n",
      "Processing parachute: 100%|██████████| 490/490 [00:00<00:00, 1136.65it/s]\n",
      "Processing cassette_player: 100%|██████████| 500/500 [00:00<00:00, 1378.43it/s]\n"
     ]
    },
    {
     "name": "stdout",
     "output_type": "stream",
     "text": [
      "Training set shape: torch.Size([3804, 3, 64, 64])\n",
      "Validation set shape: torch.Size([475, 3, 64, 64])\n",
      "Test set shape: torch.Size([476, 3, 64, 64])\n",
      "\n",
      "Class mapping: {'chainsaw': 0, 'gas_pump': 1, 'tench': 2, 'french_horn': 3, 'church': 4, 'english_springer': 5, 'golf_ball': 6, 'garbage_truck': 7, 'parachute': 8, 'cassette_player': 9}\n"
     ]
    }
   ],
   "source": [
    "def load_and_preprocess_images(data_path, target_size=(64, 64)):\n",
    "    images = []\n",
    "    labels = []\n",
    "    label_map = {}\n",
    "    \n",
    "    # Get all subfolders (classes)\n",
    "    subfolders = [f for f in os.listdir(data_path) if os.path.isdir(os.path.join(data_path, f))]\n",
    "    \n",
    "    # Create label mapping\n",
    "    for idx, folder in enumerate(subfolders):\n",
    "        label_map[folder] = idx\n",
    "    \n",
    "    # Load and preprocess images from each subfolder\n",
    "    for subfolder in subfolders:\n",
    "        subfolder_path = os.path.join(data_path, subfolder)\n",
    "        files = glob.glob(os.path.join(subfolder_path, \"*\"))\n",
    "        \n",
    "        for file_path in tqdm.tqdm(files, desc=f\"Processing {subfolder}\"):\n",
    "            # Load image\n",
    "            img = Image.open(file_path).convert('RGB')  # Ensure RGB format\n",
    "            \n",
    "            # Resize\n",
    "            img = img.resize(target_size, Image.LANCZOS)\n",
    "            \n",
    "            # Convert to numpy array and normalize\n",
    "            img_array = np.array(img) / 255.0\n",
    "            \n",
    "            images.append(img_array)\n",
    "            labels.append(label_map[subfolder])\n",
    "    \n",
    "    # Convert to numpy arrays\n",
    "    X = np.array(images)\n",
    "    y = np.array(labels)\n",
    "    \n",
    "    # Reshape for PyTorch (N, C, H, W)\n",
    "    X = X.transpose(0, 3, 1, 2)  # Rearrange from (N, H, W, C) to (N, C, H, W)\n",
    "    \n",
    "    return X, y, label_map\n",
    "\n",
    "# Load and preprocess all images\n",
    "X, y, label_map = load_and_preprocess_images(data_path)\n",
    "\n",
    "# First split into train and temp (80-20)\n",
    "X_train, X_temp, y_train, y_temp = train_test_split(X, y, test_size=0.2, random_state=42, stratify=y)\n",
    "\n",
    "# Split temp into validation and test (50-50, meaning 10-10 of original data)\n",
    "X_val, X_test, y_val, y_test = train_test_split(X_temp, y_temp, test_size=0.5, random_state=42, stratify=y_temp)\n",
    "\n",
    "# Convert to PyTorch tensors\n",
    "X_train = torch.FloatTensor(X_train)\n",
    "X_val = torch.FloatTensor(X_val)\n",
    "X_test = torch.FloatTensor(X_test)\n",
    "y_train = torch.LongTensor(y_train)\n",
    "y_val = torch.LongTensor(y_val)\n",
    "y_test = torch.LongTensor(y_test)\n",
    "\n",
    "print(f\"Training set shape: {X_train.shape}\")\n",
    "print(f\"Validation set shape: {X_val.shape}\")\n",
    "print(f\"Test set shape: {X_test.shape}\")\n",
    "print(f\"\\nClass mapping: {label_map}\")\n"
   ]
  },
  {
   "cell_type": "code",
   "execution_count": 4,
   "metadata": {},
   "outputs": [],
   "source": [
    "# Create data loaders\n",
    "batch_size = 32\n",
    "\n",
    "# Create datasets\n",
    "train_dataset = TensorDataset(X_train, y_train)\n",
    "val_dataset = TensorDataset(X_val, y_val)\n",
    "test_dataset = TensorDataset(X_test, y_test)\n",
    "\n",
    "# Create data loaders\n",
    "train_loader = DataLoader(train_dataset, batch_size=batch_size, shuffle=True)\n",
    "val_loader = DataLoader(val_dataset, batch_size=batch_size)\n",
    "test_loader = DataLoader(test_dataset, batch_size=batch_size)"
   ]
  },
  {
   "cell_type": "markdown",
   "metadata": {},
   "source": [
    "# Model Architecture"
   ]
  },
  {
   "cell_type": "code",
   "execution_count": 5,
   "metadata": {},
   "outputs": [],
   "source": [
    "class ObjectRecognition(nn.Module):\n",
    "    def __init__(self):\n",
    "        super(ObjectRecognition, self).__init__()\n",
    "        # Input is RGB (3 channels) and 224x224 based on error message dimensions\n",
    "        self.conv1 = nn.Conv2d(in_channels=3, out_channels=32, kernel_size=3, padding=1)\n",
    "        self.mp1 = nn.MaxPool2d(kernel_size=2, stride=2)  # Output: 112x112x32\n",
    "        self.conv2 = nn.Conv2d(in_channels=32, out_channels=64, kernel_size=3, padding=1)\n",
    "        self.mp2 = nn.MaxPool2d(kernel_size=2, stride=2)  # Output: 56x56x64\n",
    "        self.conv3 = nn.Conv2d(in_channels=64, out_channels=128, kernel_size=3, padding=1)\n",
    "        self.mp3 = nn.MaxPool2d(kernel_size=2, stride=2)  # Output: 28x28x128\n",
    "\n",
    "        self.bn1 = nn.BatchNorm2d(32)\n",
    "        self.bn2 = nn.BatchNorm2d(64)\n",
    "        self.bn3 = nn.BatchNorm2d(128)\n",
    "\n",
    "        self.dropout = nn.Dropout(0.2)\n",
    "\n",
    "        # After 3 max pooling layers (divide by 2^3 = 8): 28x28x128\n",
    "        self.fc1 = nn.Linear(8192, 512)\n",
    "        self.fc2 = nn.Linear(512, 128)\n",
    "        self.fc3 = nn.Linear(128, 10)  # 10 classes based on the data shown\n",
    "\n",
    "        self.relu = nn.ReLU()\n",
    "\n",
    "    def forward(self, x):\n",
    "        # Input shape: Bx3x224x224 \n",
    "        x = self.mp1(self.relu(self.bn1(self.conv1(x))))  # Bx32x112x112\n",
    "        x = self.mp2(self.relu(self.bn2(self.conv2(x))))  # Bx64x56x56\n",
    "        x = self.mp3(self.relu(self.bn3(self.conv3(x))))  # Bx128x28x28\n",
    "\n",
    "        x = torch.flatten(x, 1)  # Bx(128*28*28)\n",
    "        x = self.dropout(x)\n",
    "        x = self.relu(self.fc1(x))  # Bx512\n",
    "        x = self.dropout(x)\n",
    "        x = self.relu(self.fc2(x))  # Bx128\n",
    "        x = self.fc3(x)  # Bx10\n",
    "\n",
    "        return x"
   ]
  },
  {
   "cell_type": "markdown",
   "metadata": {},
   "source": [
    "# Training"
   ]
  },
  {
   "cell_type": "code",
   "execution_count": 6,
   "metadata": {},
   "outputs": [],
   "source": [
    "model = ObjectRecognition()\n",
    "\n",
    "criterion = nn.CrossEntropyLoss()\n",
    "optimizer = torch.optim.Adam(model.parameters(), lr=0.0001)\n",
    "epochs = 15"
   ]
  },
  {
   "cell_type": "code",
   "execution_count": 8,
   "metadata": {},
   "outputs": [
    {
     "name": "stderr",
     "output_type": "stream",
     "text": [
      "Epoch 1/15: 100%|██████████| 119/119 [00:12<00:00,  9.33it/s, loss=1.85]\n"
     ]
    },
    {
     "name": "stdout",
     "output_type": "stream",
     "text": [
      "Epoch [1/15] - Loss: 1.8847\n"
     ]
    },
    {
     "name": "stderr",
     "output_type": "stream",
     "text": [
      "Epoch 2/15: 100%|██████████| 119/119 [00:11<00:00, 10.06it/s, loss=1.38]\n"
     ]
    },
    {
     "name": "stdout",
     "output_type": "stream",
     "text": [
      "Epoch [2/15] - Loss: 1.4451\n"
     ]
    },
    {
     "name": "stderr",
     "output_type": "stream",
     "text": [
      "Epoch 3/15: 100%|██████████| 119/119 [00:11<00:00, 10.04it/s, loss=1.37] \n"
     ]
    },
    {
     "name": "stdout",
     "output_type": "stream",
     "text": [
      "Epoch [3/15] - Loss: 1.2207\n"
     ]
    },
    {
     "name": "stderr",
     "output_type": "stream",
     "text": [
      "Epoch 4/15: 100%|██████████| 119/119 [00:12<00:00,  9.85it/s, loss=1.43] \n"
     ]
    },
    {
     "name": "stdout",
     "output_type": "stream",
     "text": [
      "Epoch [4/15] - Loss: 1.0473\n"
     ]
    },
    {
     "name": "stderr",
     "output_type": "stream",
     "text": [
      "Epoch 5/15: 100%|██████████| 119/119 [00:11<00:00,  9.97it/s, loss=0.67] \n"
     ]
    },
    {
     "name": "stdout",
     "output_type": "stream",
     "text": [
      "Epoch [5/15] - Loss: 0.9040\n"
     ]
    },
    {
     "name": "stderr",
     "output_type": "stream",
     "text": [
      "Epoch 6/15: 100%|██████████| 119/119 [00:11<00:00, 10.06it/s, loss=0.966]\n"
     ]
    },
    {
     "name": "stdout",
     "output_type": "stream",
     "text": [
      "Epoch [6/15] - Loss: 0.7984\n"
     ]
    },
    {
     "name": "stderr",
     "output_type": "stream",
     "text": [
      "Epoch 7/15: 100%|██████████| 119/119 [00:11<00:00,  9.97it/s, loss=0.953]\n"
     ]
    },
    {
     "name": "stdout",
     "output_type": "stream",
     "text": [
      "Epoch [7/15] - Loss: 0.7063\n"
     ]
    },
    {
     "name": "stderr",
     "output_type": "stream",
     "text": [
      "Epoch 8/15: 100%|██████████| 119/119 [00:12<00:00,  9.81it/s, loss=0.474]\n"
     ]
    },
    {
     "name": "stdout",
     "output_type": "stream",
     "text": [
      "Epoch [8/15] - Loss: 0.6012\n"
     ]
    },
    {
     "name": "stderr",
     "output_type": "stream",
     "text": [
      "Epoch 9/15: 100%|██████████| 119/119 [00:11<00:00, 10.06it/s, loss=0.591]\n"
     ]
    },
    {
     "name": "stdout",
     "output_type": "stream",
     "text": [
      "Epoch [9/15] - Loss: 0.5141\n"
     ]
    },
    {
     "name": "stderr",
     "output_type": "stream",
     "text": [
      "Epoch 10/15: 100%|██████████| 119/119 [00:11<00:00, 10.00it/s, loss=0.551]\n"
     ]
    },
    {
     "name": "stdout",
     "output_type": "stream",
     "text": [
      "Epoch [10/15] - Loss: 0.4505\n"
     ]
    },
    {
     "name": "stderr",
     "output_type": "stream",
     "text": [
      "Epoch 11/15: 100%|██████████| 119/119 [00:11<00:00,  9.97it/s, loss=0.385]\n"
     ]
    },
    {
     "name": "stdout",
     "output_type": "stream",
     "text": [
      "Epoch [11/15] - Loss: 0.3829\n"
     ]
    },
    {
     "name": "stderr",
     "output_type": "stream",
     "text": [
      "Epoch 12/15: 100%|██████████| 119/119 [00:11<00:00,  9.92it/s, loss=0.44] \n"
     ]
    },
    {
     "name": "stdout",
     "output_type": "stream",
     "text": [
      "Epoch [12/15] - Loss: 0.3211\n"
     ]
    },
    {
     "name": "stderr",
     "output_type": "stream",
     "text": [
      "Epoch 13/15: 100%|██████████| 119/119 [00:12<00:00,  9.89it/s, loss=0.12] \n"
     ]
    },
    {
     "name": "stdout",
     "output_type": "stream",
     "text": [
      "Epoch [13/15] - Loss: 0.2733\n"
     ]
    },
    {
     "name": "stderr",
     "output_type": "stream",
     "text": [
      "Epoch 14/15: 100%|██████████| 119/119 [00:12<00:00,  9.80it/s, loss=0.243]\n"
     ]
    },
    {
     "name": "stdout",
     "output_type": "stream",
     "text": [
      "Epoch [14/15] - Loss: 0.2396\n"
     ]
    },
    {
     "name": "stderr",
     "output_type": "stream",
     "text": [
      "Epoch 15/15: 100%|██████████| 119/119 [00:11<00:00, 10.05it/s, loss=0.0976]\n"
     ]
    },
    {
     "name": "stdout",
     "output_type": "stream",
     "text": [
      "Epoch [15/15] - Loss: 0.1874\n"
     ]
    },
    {
     "data": {
      "image/png": "[encoded data removed]",
      "text/plain": [
       "<Figure size 1000x500 with 1 Axes>"
      ]
     },
     "metadata": {},
     "output_type": "display_data"
    }
   ],
   "source": [
    "# Training loop\n",
    "train_losses = []\n",
    "for epoch in range(epochs):\n",
    "    model.train()\n",
    "    running_loss = 0.0\n",
    "    \n",
    "    # Progress bar for training batches\n",
    "    progress_bar = tqdm.tqdm(train_loader, desc=f'Epoch {epoch+1}/{epochs}')\n",
    "    \n",
    "    for images, labels in progress_bar:\n",
    "        # Zero the gradients\n",
    "        optimizer.zero_grad()\n",
    "        \n",
    "        # Forward pass\n",
    "        outputs = model(images)\n",
    "        loss = criterion(outputs, labels)\n",
    "        \n",
    "        # Backward pass and optimize\n",
    "        loss.backward()\n",
    "        optimizer.step()\n",
    "        \n",
    "        # Update running loss\n",
    "        running_loss += loss.item()\n",
    "        \n",
    "        # Update progress bar description with current loss\n",
    "        progress_bar.set_postfix({'loss': loss.item()})\n",
    "    \n",
    "    # Calculate average loss for the epoch\n",
    "    epoch_loss = running_loss / len(train_loader)\n",
    "    train_losses.append(epoch_loss)\n",
    "    \n",
    "    print(f'Epoch [{epoch+1}/{epochs}] - Loss: {epoch_loss:.4f}')\n",
    "\n",
    "# Plot training loss\n",
    "plt.figure(figsize=(10, 5))\n",
    "plt.plot(train_losses, label='Training Loss')\n",
    "plt.title('Training Loss Over Time')\n",
    "plt.xlabel('Epoch')\n",
    "plt.ylabel('Loss')\n",
    "plt.legend()\n",
    "plt.show()"
   ]
  },
  {
   "cell_type": "markdown",
   "metadata": {},
   "source": [
    "# Download model weights"
   ]
  },
  {
   "cell_type": "code",
   "execution_count": 14,
   "metadata": {},
   "outputs": [
    {
     "name": "stdout",
     "output_type": "stream",
     "text": [
      "Model weights saved to /Users/olicho/Desktop/Programming/adversarial-style-transfer/models-weights/object_detection/model_weights_15_epochs.pth\n"
     ]
    }
   ],
   "source": [
    "# # Save model weights\n",
    "# model_save_path = '/Users/olicho/Desktop/Programming/adversarial-style-transfer/models-weights/object_detection/model_weights_15_epochs.pth'\n",
    "# torch.save(model.state_dict(), model_save_path)\n",
    "# print(f\"Model weights saved to {model_save_path}\")"
   ]
  },
  {
   "cell_type": "markdown",
   "metadata": {},
   "source": [
    "# Validation"
   ]
  },
  {
   "cell_type": "code",
   "execution_count": 7,
   "metadata": {},
   "outputs": [
    {
     "name": "stdout",
     "output_type": "stream",
     "text": [
      "Model weights loaded from /Users/olicho/Desktop/Programming/adversarial-style-transfer/models-weights/object-detection-nonadversarial/model_weights.pth\n"
     ]
    }
   ],
   "source": [
    "# Load saved model weights\n",
    "model_weights_path = '/Users/olicho/Desktop/Programming/adversarial-style-transfer/models-weights/object-detection-nonadversarial/model_weights.pth'\n",
    "model.load_state_dict(torch.load(model_weights_path))\n",
    "print(f\"Model weights loaded from {model_weights_path}\")"
   ]
  },
  {
   "cell_type": "code",
   "execution_count": 8,
   "metadata": {},
   "outputs": [
    {
     "name": "stdout",
     "output_type": "stream",
     "text": [
      "Test Loss: 0.3066\n",
      "Test Accuracy: 0.9370\n"
     ]
    }
   ],
   "source": [
    "def evaluate_model(model, test_loader):\n",
    "\n",
    "    model.eval()\n",
    "\n",
    "    test_loss = 0.0\n",
    "    correct = 0\n",
    "    total = 0\n",
    "\n",
    "    with torch.no_grad():\n",
    "        for data, target in test_loader:\n",
    "            output = model(data)\n",
    "\n",
    "            loss = criterion(output, target)\n",
    "            test_loss += loss.item()\n",
    "\n",
    "            pred = output.argmax(dim=1, keepdim=True)\n",
    "            correct += pred.eq(target.view_as(pred)).sum().item()\n",
    "            total += target.size(0)\n",
    "\n",
    "    test_loss /= len(test_loader)\n",
    "\n",
    "    return {\n",
    "        'loss': test_loss,\n",
    "        'accuracy': correct / total,\n",
    "    }\n",
    "\n",
    "# Evaluate model on test set\n",
    "test_results = evaluate_model(model, test_loader)\n",
    "print(f\"Test Loss: {test_results['loss']:.4f}\")\n",
    "print(f\"Test Accuracy: {test_results['accuracy']:.4f}\")"
   ]
  },
  {
   "cell_type": "markdown",
   "metadata": {},
   "source": [
    "# Evaluate on a stylized image"
   ]
  },
  {
   "cell_type": "code",
   "execution_count": 27,
   "metadata": {},
   "outputs": [
    {
     "name": "stdout",
     "output_type": "stream",
     "text": [
      "Top 3 predictions:\n",
      "1. golf_ball: 98.74%\n",
      "2. tench: 1.23%\n",
      "3. english_springer: 0.02%\n"
     ]
    }
   ],
   "source": [
    "class_names = list(label_map.keys())\n",
    "\n",
    "# Load and preprocess the image\n",
    "golfball = Image.open('/Users/olicho/Desktop/Programming/adversarial-style-transfer/data/random-test/golfball_0.jpg')\n",
    "golfball = Image.open('/Users/olicho/Desktop/Programming/adversarial-style-transfer/data/source_images/golf_ball/golf_ball_0.JPEG')\n",
    "golfball = golfball.convert('RGB')  # Ensure RGB format\n",
    "\n",
    "# Resize\n",
    "golfball = golfball.resize((64, 64), Image.LANCZOS)\n",
    "\n",
    "# Convert to numpy array and normalize \n",
    "golfball_array = np.array(golfball) / 255.0\n",
    "\n",
    "# Reshape for PyTorch (N, C, H, W)\n",
    "golfball_tensor = torch.from_numpy(golfball_array.transpose(2, 0, 1)).float()\n",
    "golfball_tensor = golfball_tensor.unsqueeze(0)  # Add batch dimension\n",
    "\n",
    "# Evaluate model\n",
    "model.eval() \n",
    "with torch.no_grad():\n",
    "    output = model(golfball_tensor)\n",
    "    probabilities = torch.nn.functional.softmax(output, dim=1)[0]\n",
    "    \n",
    "    # Get top 3 predictions\n",
    "    top3_prob, top3_idx = torch.topk(probabilities, 3)\n",
    "    \n",
    "    print(\"Top 3 predictions:\")\n",
    "    for i in range(3):\n",
    "        print(f\"{i+1}. {class_names[top3_idx[i]]}: {top3_prob[i]:.2%}\")"
   ]
  },
  {
   "cell_type": "code",
   "execution_count": null,
   "metadata": {},
   "outputs": [],
   "source": []
  }
 ],
 "metadata": {
  "kernelspec": {
   "display_name": "Python 3",
   "language": "python",
   "name": "python3"
  },
  "language_info": {
   "codemirror_mode": {
    "name": "ipython",
    "version": 3
   },
   "file_extension": ".py",
   "mimetype": "text/x-python",
   "name": "python",
   "nbconvert_exporter": "python",
   "pygments_lexer": "ipython3",
   "version": "3.11.4"
  }
 },
 "nbformat": 4,
 "nbformat_minor": 2
}
